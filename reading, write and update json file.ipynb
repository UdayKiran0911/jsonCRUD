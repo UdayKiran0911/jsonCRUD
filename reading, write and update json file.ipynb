{
 "cells": [
  {
   "cell_type": "code",
   "execution_count": 18,
   "metadata": {},
   "outputs": [],
   "source": [
    "import json\n",
    "\n",
    "x = { \n",
    "\"1\": {\"name\": \"Jsone\",\"age\": 21,\"address\": { \"street\": \"1 Main Street\", \"city\": \"Los Angeles\", \"zipcode\": 90001},\"married\": False},\n",
    "\"2\":{\"name\": \"Kimberly\",\"age\": 36,\"address\": { \"street\": \"2 subway road\", \"city\": \"Delhi\", \"zipcode\": 500001},\"married\": True},\n",
    "\"3\":{\"name\": \"Lily\",\"age\": 16,\"address\": { \"street\": \"7th Avenu, street 9\", \"city\": \"Hyderabad\", \"zipcode\": 500011},\"married\": False},\n",
    "}"
   ]
  },
  {
   "cell_type": "code",
   "execution_count": 53,
   "metadata": {},
   "outputs": [],
   "source": [
    "def jsonwriter(jsd):\n",
    "    with open(\"C:\\\\Users\\\\UyBodala\\\\OneDrive - SkillSoft Corporation\\MyDocuments\\\\Python Supporting Scripts\\\\jsonfile.json\",\"a+\") as f:\n",
    "        jfile = json.loads(f)\n",
    "        jfile.update(jsd)\n",
    "        f.write(json.dumps(jsd, indent=2, sort_keys=True))\n",
    "        f.truncate()\n",
    "\n",
    "def jsonupdate(d_list):\n",
    "    with open(\"C:\\\\Users\\\\UyBodala\\\\OneDrive - SkillSoft Corporation\\MyDocuments\\\\Python Supporting Scripts\\\\jsonfile.json\",\"r+\") as f:\n",
    "        jfile = json.load(f)\n",
    "        jfile[d_list[0]][d_list[1]] = d_list[2]\n",
    "        f.seek(0)\n",
    "        f.write(json.dumps(jfile, indent=2, sort_keys=True))\n",
    "        f.truncate()\n",
    "\n",
    "def jsonreader():\n",
    "    with open(\"C:\\\\Users\\\\UyBodala\\\\OneDrive - SkillSoft Corporation\\MyDocuments\\\\Python Supporting Scripts\\\\jsonfile.json\",\"r+\") as f:\n",
    "        print(json.load(f))"
   ]
  },
  {
   "cell_type": "code",
   "execution_count": 30,
   "metadata": {},
   "outputs": [],
   "source": [
    "y = { \n",
    "\"4\": {\"name\": \"Mesone\",\"age\": 21,\"address\": { \"street\": \"1 Main Street\", \"city\": \"Los Angeles\", \"zipcode\": 90001},\"married\": False},\n",
    "}"
   ]
  },
  {
   "cell_type": "code",
   "execution_count": 31,
   "metadata": {},
   "outputs": [
    {
     "data": {
      "text/plain": [
       "dict_keys(['4'])"
      ]
     },
     "execution_count": 31,
     "metadata": {},
     "output_type": "execute_result"
    }
   ],
   "source": [
    "y.keys()"
   ]
  },
  {
   "cell_type": "code",
   "execution_count": 54,
   "metadata": {},
   "outputs": [
    {
     "name": "stdout",
     "output_type": "stream",
     "text": [
      "{'1': {'name': 'Jsone', 'age': 21, 'address': {'street': '1 Main Street', 'city': 'Los Angeles', 'zipcode': 90001}, 'married': False}, '2': {'name': 'Kimberly', 'age': 36, 'address': {'street': '2 subway road', 'city': 'Delhi', 'zipcode': 500001}, 'married': True}, '3': {'name': 'Lily', 'age': 16, 'address': {'street': '7th Avenu, street 9', 'city': 'Hyderabad', 'zipcode': 500011}, 'married': False}}\n"
     ]
    }
   ],
   "source": [
    "jsonreader()"
   ]
  },
  {
   "cell_type": "code",
   "execution_count": 55,
   "metadata": {},
   "outputs": [],
   "source": [
    "jsonwriter(y)"
   ]
  },
  {
   "cell_type": "code",
   "execution_count": 4,
   "metadata": {},
   "outputs": [],
   "source": [
    "jsonupdate([\"3\", \"age\", 17])"
   ]
  }
 ],
 "metadata": {
  "kernelspec": {
   "display_name": "Python 3",
   "language": "python",
   "name": "python3"
  },
  "language_info": {
   "codemirror_mode": {
    "name": "ipython",
    "version": 3
   },
   "file_extension": ".py",
   "mimetype": "text/x-python",
   "name": "python",
   "nbconvert_exporter": "python",
   "pygments_lexer": "ipython3",
   "version": "3.11.1"
  },
  "orig_nbformat": 4,
  "vscode": {
   "interpreter": {
    "hash": "03d26f7d9451061b71135a750e5e4a884752110b3cca68dfb41ac3d7bfd9d08c"
   }
  }
 },
 "nbformat": 4,
 "nbformat_minor": 2
}
